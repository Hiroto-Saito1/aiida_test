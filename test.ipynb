{
 "cells": [
  {
   "cell_type": "code",
   "execution_count": 8,
   "metadata": {},
   "outputs": [
    {
     "data": {
      "text/plain": [
       "Profile<uuid='efe3b646acbe4b46b34848999a0e7c25' name='test_aiida'>"
      ]
     },
     "execution_count": 8,
     "metadata": {},
     "output_type": "execute_result"
    }
   ],
   "source": [
    "# AiiDA環境をロード\n",
    "from aiida import load_profile\n",
    "\n",
    "# プロファイルをロード\n",
    "load_profile(\"test_aiida\")"
   ]
  },
  {
   "cell_type": "code",
   "execution_count": 9,
   "metadata": {},
   "outputs": [
    {
     "data": {
      "text/plain": [
       "<Int: uuid: 1e3d13a8-5b83-42ba-b182-0bb010cf2052 (pk: 130) value: 2>"
      ]
     },
     "execution_count": 9,
     "metadata": {},
     "output_type": "execute_result"
    }
   ],
   "source": [
    "# Int ノードをインポート\n",
    "from aiida.orm import Int\n",
    "\n",
    "node = Int(2)\n",
    "node.store()"
   ]
  },
  {
   "cell_type": "code",
   "execution_count": 10,
   "metadata": {},
   "outputs": [],
   "source": [
    "from aiida.engine import calcfunction\n",
    "\n",
    "\n",
    "@calcfunction\n",
    "def multiply(x, y):\n",
    "    return x * y"
   ]
  },
  {
   "cell_type": "code",
   "execution_count": 11,
   "metadata": {},
   "outputs": [
    {
     "data": {
      "text/plain": [
       "<Int: uuid: f4eaf863-2187-472e-9040-ed65509599a5 (pk: 134) value: 15>"
      ]
     },
     "execution_count": 11,
     "metadata": {},
     "output_type": "execute_result"
    }
   ],
   "source": [
    "x = Int(3)\n",
    "y = Int(5)\n",
    "multiply(x, y)"
   ]
  },
  {
   "cell_type": "code",
   "execution_count": null,
   "metadata": {},
   "outputs": [],
   "source": []
  },
  {
   "cell_type": "code",
   "execution_count": 16,
   "metadata": {},
   "outputs": [],
   "source": [
    "from aiida.orm import load_code, load_node, load_group, Dict\n",
    "from aiida.plugins import DataFactory\n",
    "\n",
    "code = load_code('pw@localhost')\n",
    "builder = code.get_builder()\n",
    "\n",
    "structure = load_node(8)\n",
    "builder.structure = structure\n",
    "\n",
    "pseudo_family = load_group('SSSP/1.3/PBE/efficiency')\n",
    "pseudos = pseudo_family.get_pseudos(structure=structure)\n",
    "builder.pseudos = pseudos\n",
    "\n",
    "parameters = {\n",
    "  'CONTROL': {\n",
    "    'calculation': 'scf',  # self-consistent field\n",
    "  },\n",
    "  'SYSTEM': {\n",
    "    'ecutwfc': 30.,  # wave function cutoff in Ry\n",
    "    'ecutrho': 240.,  # density cutoff in Ry\n",
    "  },\n",
    "}\n",
    "builder.parameters = Dict(parameters)\n",
    "\n",
    "KpointsData = DataFactory('core.array.kpoints')\n",
    "kpoints = KpointsData()\n",
    "kpoints.set_kpoints_mesh([4,4,4])\n",
    "builder.kpoints = kpoints\n",
    "\n",
    "builder.metadata.options.resources = {'num_machines': 1}\n",
    "builder.metadata.options.queue_name = \"GroupC\"\n"
   ]
  },
  {
   "cell_type": "code",
   "execution_count": 17,
   "metadata": {},
   "outputs": [],
   "source": [
    "from aiida.engine import submit\n",
    "calcjob_node = submit(builder)"
   ]
  },
  {
   "cell_type": "code",
   "execution_count": null,
   "metadata": {},
   "outputs": [],
   "source": []
  }
 ],
 "metadata": {
  "kernelspec": {
   "display_name": "mae",
   "language": "python",
   "name": "python3"
  },
  "language_info": {
   "codemirror_mode": {
    "name": "ipython",
    "version": 3
   },
   "file_extension": ".py",
   "mimetype": "text/x-python",
   "name": "python",
   "nbconvert_exporter": "python",
   "pygments_lexer": "ipython3",
   "version": "3.12.8"
  }
 },
 "nbformat": 4,
 "nbformat_minor": 2
}
