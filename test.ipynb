{
 "cells": [
  {
   "cell_type": "code",
   "execution_count": null,
   "metadata": {},
   "outputs": [
    {
     "ename": "",
     "evalue": "",
     "output_type": "error",
     "traceback": [
      "\u001b[1;31mRunning cells with 'aiida (Python 3.9.15)' requires the ipykernel package.\n",
      "\u001b[1;31mRun the following command to install 'ipykernel' into the Python environment. \n",
      "\u001b[1;31mCommand: 'conda install -n aiida ipykernel --update-deps --force-reinstall'"
     ]
    }
   ],
   "source": [
    "# AiiDA環境をロード\n",
    "from aiida import load_profile\n",
    "\n",
    "# プロファイルをロード\n",
    "load_profile(\"aiida_test\")"
   ]
  },
  {
   "cell_type": "code",
   "execution_count": null,
   "metadata": {},
   "outputs": [],
   "source": [
    "# Int ノードをインポート\n",
    "from aiida.orm import Int\n",
    "\n",
    "node = Int(2)\n",
    "node.store()"
   ]
  },
  {
   "cell_type": "code",
   "execution_count": 3,
   "metadata": {},
   "outputs": [],
   "source": [
    "from aiida.engine import calcfunction\n",
    "\n",
    "\n",
    "@calcfunction\n",
    "def multiply(x, y):\n",
    "    return x * y"
   ]
  },
  {
   "cell_type": "code",
   "execution_count": null,
   "metadata": {},
   "outputs": [],
   "source": [
    "x = Int(3)\n",
    "y = Int(5)\n",
    "multiply(x, y)"
   ]
  },
  {
   "cell_type": "code",
   "execution_count": null,
   "metadata": {},
   "outputs": [],
   "source": []
  },
  {
   "cell_type": "code",
   "execution_count": null,
   "metadata": {},
   "outputs": [],
   "source": [
    "from aiida.orm import load_code, load_node, load_group, Dict\n",
    "from aiida.plugins import DataFactory\n",
    "\n",
    "code = load_code(\"pw@localhost\")\n",
    "builder = code.get_builder()\n",
    "\n",
    "structure = load_node(2)\n",
    "builder.structure = structure\n",
    "\n",
    "pseudo_family = load_group(\"SSSP/1.3/PBE/efficiency\")\n",
    "pseudos = pseudo_family.get_pseudos(structure=structure)\n",
    "builder.pseudos = pseudos\n",
    "\n",
    "parameters = {\n",
    "    \"CONTROL\": {\n",
    "        \"calculation\": \"scf\",  # self-consistent field\n",
    "    },\n",
    "    \"SYSTEM\": {\n",
    "        \"ecutwfc\": 30.0,  # wave function cutoff in Ry\n",
    "        \"ecutrho\": 240.0,  # density cutoff in Ry\n",
    "    },\n",
    "}\n",
    "builder.parameters = Dict(parameters)\n",
    "\n",
    "KpointsData = DataFactory(\"core.array.kpoints\")\n",
    "kpoints = KpointsData()\n",
    "kpoints.set_kpoints_mesh([4, 4, 4])\n",
    "builder.kpoints = kpoints\n",
    "\n",
    "builder.metadata.options.resources = {\"num_machines\": 1}\n",
    "builder.metadata.options.queue_name = \"GroupC\"\n",
    "builder.metadata.options.import_sys_environment = False  # -V オプションを削除する\n",
    "builder.metadata.options.scheduler_stdout = \"\"\n",
    "builder.metadata.options.scheduler_stderr = \"\"\n",
    "\n"
   ]
  },
  {
   "cell_type": "code",
   "execution_count": 3,
   "metadata": {},
   "outputs": [],
   "source": [
    "from aiida.engine import submit, run\n",
    "\n",
    "calcjob_node = submit(builder)"
   ]
  },
  {
   "cell_type": "code",
   "execution_count": null,
   "metadata": {},
   "outputs": [],
   "source": [
    "node = load_node(179)\n",
    "d = node.get_dict()\n",
    "d[\"energy\"]"
   ]
  },
  {
   "cell_type": "code",
   "execution_count": null,
   "metadata": {},
   "outputs": [],
   "source": []
  }
 ],
 "metadata": {
  "kernelspec": {
   "display_name": "aiida",
   "language": "python",
   "name": "python3"
  },
  "language_info": {
   "codemirror_mode": {
    "name": "ipython",
    "version": 3
   },
   "file_extension": ".py",
   "mimetype": "text/x-python",
   "name": "python",
   "nbconvert_exporter": "python",
   "pygments_lexer": "ipython3",
   "version": "3.9.15"
  }
 },
 "nbformat": 4,
 "nbformat_minor": 2
}
